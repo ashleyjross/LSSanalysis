{
 "cells": [
  {
   "cell_type": "code",
   "execution_count": 1,
   "metadata": {
    "collapsed": false
   },
   "outputs": [
    {
     "name": "stdout",
     "output_type": "stream",
     "text": [
      "0\n",
      "100\n",
      "200\n",
      "300\n",
      "400\n",
      "500\n",
      "600\n",
      "700\n",
      "800\n",
      "900\n",
      "1000\n",
      "1100\n",
      "1200\n",
      "1300\n",
      "1400\n",
      "1500\n",
      "1600\n",
      "1700\n",
      "1800\n",
      "1900\n",
      "2000\n",
      "2100\n",
      "2200\n",
      "2300\n",
      "2400\n",
      "2500\n",
      "2600\n",
      "2700\n",
      "2800\n",
      "2900\n",
      "3000\n",
      "3100\n",
      "3200\n",
      "3300\n",
      "3400\n",
      "3500\n",
      "3600\n",
      "3700\n",
      "3800\n",
      "3900\n",
      "4000\n",
      "4100\n",
      "4200\n",
      "4300\n",
      "4400\n",
      "4500\n",
      "4600\n",
      "4700\n",
      "4800\n",
      "4900\n",
      "5000\n",
      "5100\n",
      "5200\n",
      "5300\n",
      "5400\n",
      "5500\n",
      "5600\n",
      "5700\n",
      "5800\n",
      "5900\n",
      "6000\n",
      "6100\n",
      "6200\n",
      "6300\n",
      "6400\n",
      "6500\n",
      "6600\n",
      "6700\n",
      "6800\n",
      "6900\n",
      "7000\n",
      "7100\n",
      "7200\n",
      "7300\n",
      "7400\n",
      "7500\n",
      "7600\n",
      "7700\n",
      "7800\n",
      "7900\n",
      "8000\n",
      "8100\n",
      "8200\n",
      "8300\n",
      "8400\n",
      "8500\n",
      "8600\n",
      "8700\n",
      "8800\n",
      "8900\n",
      "9000\n",
      "9100\n",
      "9200\n",
      "9300\n",
      "9400\n",
      "9500\n",
      "9600\n",
      "9700\n",
      "9800\n",
      "9900\n",
      "0.00747183960069 0.00711306286797\n"
     ]
    }
   ],
   "source": [
    "import numpy as np\n",
    "from math import *\n",
    "\n",
    "w1 = 1.\n",
    "w2 = .5\n",
    "N1 = 10000\n",
    "N2 = int(N1/w2) #makes each bin have same total inverse variance\n",
    "Nexp = 10000\n",
    "ml = []\n",
    "mlw = []\n",
    "from random import gauss\n",
    "for j in range(0,Nexp):\n",
    "    vl = []\n",
    "    vlw = []\n",
    "    wl = []\n",
    "\n",
    "    for i in range(0,N1):\n",
    "        v = gauss(0,1)\n",
    "        vl.append(v)\n",
    "        vlw.append(v)\n",
    "        wl.append(1.)\n",
    "    for i in range(0,N2):\n",
    "        v = gauss(0,sqrt(1./w2))\n",
    "        vl.append(v)\n",
    "        vlw.append(v*w2)\n",
    "        wl.append(w2)\n",
    "    vl = np.array(vl)\n",
    "    vlw = np.array(vlw)\n",
    "    wl = np.array(wl)\n",
    "    meanv = sum(vl)/float(len(vl))\n",
    "    meanvw = sum(vlw)/sum(wl)\n",
    "    ml.append(meanv)\n",
    "    mlw.append(meanvw)\n",
    "    if j/100 == j/100.:\n",
    "        print j\n",
    "    #print j,meanv,meanvw\n",
    "\n",
    "m = sum(ml)/float(len(ml))\n",
    "mw = sum(mlw)/float(len(ml))\n",
    "ml = np.array(ml)\n",
    "mlw = np.array(mlw)\n",
    "sig = sqrt(sum(ml**2.)/float(len(ml))-m**2.)\n",
    "sigw = sqrt(sum(mlw**2.)/float(len(ml))-mw**2.)\n",
    "print sig,sigw\n",
    "\n",
    "   \n"
   ]
  },
  {
   "cell_type": "code",
   "execution_count": 2,
   "metadata": {
    "collapsed": false
   },
   "outputs": [
    {
     "data": {
      "text/plain": [
       "1.050439134221007"
      ]
     },
     "execution_count": 2,
     "metadata": {},
     "output_type": "execute_result"
    }
   ],
   "source": [
    "0.00747183960069/0.00711306286797\n",
    "\n",
    "    "
   ]
  },
  {
   "cell_type": "code",
   "execution_count": 5,
   "metadata": {
    "collapsed": false
   },
   "outputs": [
    {
     "name": "stdout",
     "output_type": "stream",
     "text": [
      "0\n",
      "100\n",
      "200\n",
      "300\n",
      "400\n",
      "500\n",
      "600\n",
      "700\n",
      "800\n",
      "900\n",
      "0.00919784916645 0.00712046157684\n"
     ]
    }
   ],
   "source": [
    "#repeat for w2 = .1\n",
    "w1 = 1.\n",
    "w2 = .1\n",
    "N1 = 10000\n",
    "N2 = int(N1/w2) #makes each bin have same total inverse variance\n",
    "Nexp = 1000\n",
    "ml = []\n",
    "mlw = []\n",
    "from random import gauss\n",
    "for j in range(0,Nexp):\n",
    "    vl = []\n",
    "    vlw = []\n",
    "    wl = []\n",
    "\n",
    "    for i in range(0,N1):\n",
    "        v = gauss(0,1)\n",
    "        vl.append(v)\n",
    "        vlw.append(v)\n",
    "        wl.append(1.)\n",
    "    for i in range(0,N2):\n",
    "        v = gauss(0,sqrt(1./w2))\n",
    "        vl.append(v)\n",
    "        vlw.append(v*w2)\n",
    "        wl.append(w2)\n",
    "    vl = np.array(vl)\n",
    "    vlw = np.array(vlw)\n",
    "    wl = np.array(wl)\n",
    "    meanv = sum(vl)/float(len(vl))\n",
    "    meanvw = sum(vlw)/sum(wl)\n",
    "    ml.append(meanv)\n",
    "    mlw.append(meanvw)\n",
    "    if j/100 == j/100.:\n",
    "        print j\n",
    "    #print j,meanv,meanvw\n",
    "\n",
    "m = sum(ml)/float(len(ml))\n",
    "mw = sum(mlw)/float(len(ml))\n",
    "ml = np.array(ml)\n",
    "mlw = np.array(mlw)\n",
    "sig = sqrt(sum(ml**2.)/float(len(ml))-m**2.)\n",
    "sigw = sqrt(sum(mlw**2.)/float(len(ml))-mw**2.)\n",
    "print sig,sigw\n"
   ]
  },
  {
   "cell_type": "code",
   "execution_count": 6,
   "metadata": {
    "collapsed": false
   },
   "outputs": [
    {
     "data": {
      "text/plain": [
       "1.2917490063238186"
      ]
     },
     "execution_count": 6,
     "metadata": {},
     "output_type": "execute_result"
    }
   ],
   "source": [
    "0.00919784916645/0.00712046157684"
   ]
  },
  {
   "cell_type": "code",
   "execution_count": null,
   "metadata": {
    "collapsed": true
   },
   "outputs": [],
   "source": []
  }
 ],
 "metadata": {
  "kernelspec": {
   "display_name": "Python [Root]",
   "language": "python",
   "name": "Python [Root]"
  },
  "language_info": {
   "codemirror_mode": {
    "name": "ipython",
    "version": 2
   },
   "file_extension": ".py",
   "mimetype": "text/x-python",
   "name": "python",
   "nbconvert_exporter": "python",
   "pygments_lexer": "ipython2",
   "version": "2.7.13"
  }
 },
 "nbformat": 4,
 "nbformat_minor": 2
}
